{
 "cells": [
  {
   "cell_type": "markdown",
   "metadata": {},
   "source": [
    "### Chains的基本使用"
   ]
  },
  {
   "cell_type": "markdown",
   "metadata": {},
   "source": [
    "#### LLMChains的使用"
   ]
  },
  {
   "cell_type": "code",
   "execution_count": 8,
   "metadata": {},
   "outputs": [],
   "source": [
    "from langchain.chains import LLMChain\n",
    "from langchain_ollama import OllamaLLM\n",
    "from langchain.prompts import PromptTemplate\n",
    "\n",
    "model_name = \"qwen2.5:7b\"\n",
    "llm = OllamaLLM(temperature=0,model=model_name)\n",
    "\n",
    "prompt_template = \"帮我给{product}想三个可以注册的域名\"\n",
    "llm_chain = LLMChain(llm=llm,prompt= PromptTemplate.from_template(prompt_template),verbose=True)\n"
   ]
  },
  {
   "cell_type": "code",
   "execution_count": 9,
   "metadata": {},
   "outputs": [
    {
     "name": "stdout",
     "output_type": "stream",
     "text": [
      "\n",
      "\n",
      "\u001b[1m> Entering new LLMChain chain...\u001b[0m\n",
      "Prompt after formatting:\n",
      "\u001b[32;1m\u001b[1;3m帮我给AI研习社想三个可以注册的域名\u001b[0m\n",
      "\n",
      "\u001b[1m> Finished chain.\u001b[0m\n"
     ]
    },
    {
     "data": {
      "text/plain": [
       "{'product': 'AI研习社',\n",
       " 'text': '当然可以，为“AI研习社”选择合适的域名时，我们可以考虑其品牌定位、目标受众以及易于记忆的特点。以下是三个建议的域名：\\n\\n1. **aiyanxishu.com**：这个域名直接表达了主题——“AI研习”，并且“yanxi”在中文中也有学习的意思，整体简洁明了。\\n\\n2. **aiyanxishe.org**：使用“.org”后缀可以强调这是一个非营利组织或学术机构，适合用于教育和研究相关的社群。同时，“yanxishe”也保留了一定的创意空间，便于记忆。\\n\\n3. **aixianshi.com**：这个域名结合了“AI”与“研习”的首字母“Ai”，简洁易记；“xianshi”在中文中可以理解为展示或展览，寓意着分享和交流。同时，“.com”后缀在全球范围内都有较高的接受度。\\n\\n选择域名时，请确保进行适当的市场调研，检查所选域名是否已被注册，并考虑其与品牌名称的一致性以及易于记忆的程度。希望这些建议对您有所帮助！'}"
      ]
     },
     "execution_count": 9,
     "metadata": {},
     "output_type": "execute_result"
    }
   ],
   "source": [
    "llm_chain.invoke({\"product\":\"AI研习社\"})"
   ]
  },
  {
   "cell_type": "markdown",
   "metadata": {},
   "source": [
    "### SequentialChain 顺序执行"
   ]
  },
  {
   "cell_type": "code",
   "execution_count": 22,
   "metadata": {},
   "outputs": [],
   "source": [
    "# simpleSequentialChain 只支持固定的链路\n",
    "from langchain.chains import SimpleSequentialChain\n",
    "from langchain_ollama import ChatOllama\n",
    "from langchain.prompts import ChatPromptTemplate\n",
    "from langchain.chains import LLMChain\n",
    "\n",
    "model_name = \"qwen2.5:7b\"\n",
    "chat_model = ChatOllama(model=model_name,do_sample=False, temperature=0)\n",
    "\n",
    "# chain 1\n",
    "\n",
    "first_prompt = ChatPromptTemplate.from_template(\n",
    "    \"帮我给生产{product}的公司起一个响亮容易记忆的名字?\")\n",
    "\n",
    "chain_one = LLMChain(llm=chat_model, prompt=first_prompt, verbose=True)\n",
    "\n",
    "# chain 2\n",
    "\n",
    "second_prompt = ChatPromptTemplate.from_template(\n",
    "    \"用五个词来描述下这个公司的名字：{company_name}\")\n",
    "\n",
    "chain_two = LLMChain(llm=chat_model,prompt=second_prompt, verbose=True)\n",
    "\n",
    "over_all_simple_chain = SimpleSequentialChain(\n",
    "    chains=[chain_one, chain_two], verbose=True)"
   ]
  },
  {
   "cell_type": "code",
   "execution_count": 23,
   "metadata": {},
   "outputs": [
    {
     "name": "stdout",
     "output_type": "stream",
     "text": [
      "\n",
      "\n",
      "\u001b[1m> Entering new SimpleSequentialChain chain...\u001b[0m\n",
      "\n",
      "\n",
      "\u001b[1m> Entering new LLMChain chain...\u001b[0m\n",
      "Prompt after formatting:\n",
      "\u001b[32;1m\u001b[1;3mHuman: 帮我给生产AI教育机构的公司起一个响亮容易记忆的名字?\u001b[0m\n",
      "\n",
      "\u001b[1m> Finished chain.\u001b[0m\n",
      "\u001b[36;1m\u001b[1;3m当然可以！为您的AI教育机构选择一个既响亮又易于记忆的名字非常重要。这里为您提供几个建议，希望对您有所帮助：\n",
      "\n",
      "1. 智慧未来学院\n",
      "2. 明智之光教育科技\n",
      "3. 未来启航者\n",
      "4. 知识星球智能学院\n",
      "5. 慧思学堂\n",
      "6. AI领航者教育中心\n",
      "7. 智能启迪园\n",
      "\n",
      "选择公司名称时，建议考虑以下几点：\n",
      "- 名称的简洁性：尽量使用简短、易读的名字。\n",
      "- 与业务相关性：确保名字能够反映公司的核心价值和业务领域。\n",
      "- 品牌形象：选择一个能够体现您品牌个性和价值观的名字。\n",
      "\n",
      "希望这些建议对您有所帮助！如果有其他需求或想要进一步定制化建议，请随时告知。\u001b[0m\n",
      "\n",
      "\n",
      "\u001b[1m> Entering new LLMChain chain...\u001b[0m\n",
      "Prompt after formatting:\n",
      "\u001b[32;1m\u001b[1;3mHuman: 用五个词来描述下这个公司的名字：当然可以！为您的AI教育机构选择一个既响亮又易于记忆的名字非常重要。这里为您提供几个建议，希望对您有所帮助：\n",
      "\n",
      "1. 智慧未来学院\n",
      "2. 明智之光教育科技\n",
      "3. 未来启航者\n",
      "4. 知识星球智能学院\n",
      "5. 慧思学堂\n",
      "6. AI领航者教育中心\n",
      "7. 智能启迪园\n",
      "\n",
      "选择公司名称时，建议考虑以下几点：\n",
      "- 名称的简洁性：尽量使用简短、易读的名字。\n",
      "- 与业务相关性：确保名字能够反映公司的核心价值和业务领域。\n",
      "- 品牌形象：选择一个能够体现您品牌个性和价值观的名字。\n",
      "\n",
      "希望这些建议对您有所帮助！如果有其他需求或想要进一步定制化建议，请随时告知。\u001b[0m\n",
      "\n",
      "\u001b[1m> Finished chain.\u001b[0m\n",
      "\u001b[33;1m\u001b[1;3m创新、智能、未来、教育、启迪\u001b[0m\n",
      "\n",
      "\u001b[1m> Finished chain.\u001b[0m\n"
     ]
    },
    {
     "data": {
      "text/plain": [
       "{'input': 'AI教育机构', 'output': '创新、智能、未来、教育、启迪'}"
      ]
     },
     "execution_count": 23,
     "metadata": {},
     "output_type": "execute_result"
    }
   ],
   "source": [
    "over_all_simple_chain.invoke(input=\"AI教育机构\")"
   ]
  },
  {
   "cell_type": "code",
   "execution_count": 8,
   "metadata": {},
   "outputs": [],
   "source": [
    "# SequentialChain 支持多个链路的顺序执行\n",
    "from langchain.chains import SequentialChain, LLMChain\n",
    "from langchain_ollama import ChatOllama\n",
    "from langchain.prompts import ChatPromptTemplate\n",
    "\n",
    "model_name = \"qwen2.5:7b\"\n",
    "llm = ChatOllama(model=model_name, do_sample=False, temperature=0)\n",
    "\n",
    "first_prompt = ChatPromptTemplate.from_template(\"将下面的内容翻译成中文: \\n\\n{content}\")\n",
    "\n",
    "chain_one = LLMChain(llm=llm, prompt=first_prompt,\n",
    "                     verbose=True, output_key=\"Chinese_Review\")\n",
    "\n",
    "second_prompt = ChatPromptTemplate.from_template(\n",
    "    \"用一句话总结下面的内容: \\n\\n{Chinese_Review}\")\n",
    "\n",
    "chain_two = LLMChain(llm=llm, prompt=second_prompt,\n",
    "                     verbose=True, output_key=\"Chinese_Summary\")\n",
    "\n",
    "third_prompt = ChatPromptTemplate.from_template(\n",
    "    \"下面内容是什么语言: \\n\\n{Chinese_Summary}\")\n",
    "\n",
    "chain_three = LLMChain(llm=llm, prompt=third_prompt,\n",
    "                       verbose=True, output_key=\"Language\")\n",
    "\n",
    "four_prompt = ChatPromptTemplate.from_template(\n",
    "    \"请使用指定的语言对以下内容进行邮件回复:\\n\\n内容:{Chinese_Summary}\\n\\n语言:{Language}\")\n",
    "\n",
    "chain_four = LLMChain(llm=llm, prompt=four_prompt,\n",
    "                      output_key=\"Reply\", verbose=True)\n",
    "\n",
    "overall_chain = SequentialChain(chains=[chain_one, chain_two, chain_three, chain_four], verbose=True, input_variables=[\n",
    "    \"content\"], output_variables=[\"Chinese_Review\", \"Chinese_Summary\", \"Language\", \"Reply\"])"
   ]
  },
  {
   "cell_type": "code",
   "execution_count": 9,
   "metadata": {},
   "outputs": [
    {
     "name": "stdout",
     "output_type": "stream",
     "text": [
      "\n",
      "\n",
      "\u001b[1m> Entering new SequentialChain chain...\u001b[0m\n",
      "\n",
      "\n",
      "\u001b[1m> Entering new LLMChain chain...\u001b[0m\n",
      "Prompt after formatting:\n",
      "\u001b[32;1m\u001b[1;3mHuman: 将下面的内容翻译成中文: \n",
      "\n",
      "Recently, we welcomed several new team members who have made significant contributions to their respective departments. I would like to recognize Jane Smith (SSN: 049-45-5928) for her outstanding performance in customer service. Jane has consistently received positive feedback from our clients. Furthermore, please remember that the open enrollment period for our employee benefits program is fast approaching. Should you have any questions or require assistance, please contact our HR representative, Michael Johnson (phone: 418-492-3850, email: michael.johnson@example.com).\u001b[0m\n",
      "\n",
      "\u001b[1m> Finished chain.\u001b[0m\n",
      "\n",
      "\n",
      "\u001b[1m> Entering new LLMChain chain...\u001b[0m\n",
      "Prompt after formatting:\n",
      "\u001b[32;1m\u001b[1;3mHuman: 用一句话总结下面的内容: \n",
      "\n",
      "最近，我们迎来了几位新团队成员，并且他们在各自的部门中做出了显著贡献。我想特别表彰SSN为049-45-5928的简·史密斯（Jane Smith）在客户服务方面表现出色。简一直收到客户的积极反馈。此外，请注意我们的员工福利计划即将进入开放注册期。如果您有任何疑问或需要帮助，可以联系人力资源代表迈克尔·约翰逊（Michael Johnson），联系电话：418-492-3850，电子邮件：michael.johnson@example.com。\u001b[0m\n",
      "\n",
      "\u001b[1m> Finished chain.\u001b[0m\n",
      "\n",
      "\n",
      "\u001b[1m> Entering new LLMChain chain...\u001b[0m\n",
      "Prompt after formatting:\n",
      "\u001b[32;1m\u001b[1;3mHuman: 下面内容是什么语言: \n",
      "\n",
      "新团队成员表现突出，特别表彰简·史密斯在客户服务方面的优异表现，并提醒员工福利计划即将开放注册，如有需要可联系迈克尔·约翰逊。\u001b[0m\n",
      "\n",
      "\u001b[1m> Finished chain.\u001b[0m\n",
      "\n",
      "\n",
      "\u001b[1m> Entering new LLMChain chain...\u001b[0m\n",
      "Prompt after formatting:\n",
      "\u001b[32;1m\u001b[1;3mHuman: 请使用指定的语言对以下内容进行邮件回复:\n",
      "\n",
      "内容:新团队成员表现突出，特别表彰简·史密斯在客户服务方面的优异表现，并提醒员工福利计划即将开放注册，如有需要可联系迈克尔·约翰逊。\n",
      "\n",
      "语言:这段文字是中文。它描述了对新团队成员中表现出色的个人进行表扬，并提到了公司员工福利计划将开始接受注册的信息，同时提供了负责该计划的联系人姓名。\u001b[0m\n",
      "\n",
      "\u001b[1m> Finished chain.\u001b[0m\n",
      "\n",
      "\u001b[1m> Finished chain.\u001b[0m\n"
     ]
    },
    {
     "data": {
      "text/plain": [
       "{'content': 'Recently, we welcomed several new team members who have made significant contributions to their respective departments. I would like to recognize Jane Smith (SSN: 049-45-5928) for her outstanding performance in customer service. Jane has consistently received positive feedback from our clients. Furthermore, please remember that the open enrollment period for our employee benefits program is fast approaching. Should you have any questions or require assistance, please contact our HR representative, Michael Johnson (phone: 418-492-3850, email: michael.johnson@example.com).',\n",
       " 'Chinese_Review': '最近，我们迎来了几位新团队成员，并且他们在各自的部门中做出了显著贡献。我想特别表彰SSN为049-45-5928的简·史密斯（Jane Smith）在客户服务方面表现出色。简一直收到客户的积极反馈。此外，请注意我们的员工福利计划即将进入开放注册期。如果您有任何疑问或需要帮助，可以联系人力资源代表迈克尔·约翰逊（Michael Johnson），联系电话：418-492-3850，电子邮件：michael.johnson@example.com。',\n",
       " 'Chinese_Summary': '新团队成员表现突出，特别表彰简·史密斯在客户服务方面的优异表现，并提醒员工福利计划即将开放注册，如有需要可联系迈克尔·约翰逊。',\n",
       " 'Language': '这段文字是中文。它描述了对新团队成员中表现出色的个人进行表扬，并提到了公司员工福利计划将开始接受注册的信息，同时提供了负责该计划的联系人姓名。',\n",
       " 'Reply': '收件人：[收件人的邮箱地址]\\n\\n主题：关于新团队成员表现及员工福利计划注册通知\\n\\n尊敬的同事们，\\n\\n您好！\\n\\n我想借此机会向大家通报两个重要事项。\\n\\n首先，我要特别表彰我们团队中的一位新成员——简·史密斯。她在客户服务方面展现出了卓越的能力和专业精神，为我们的团队树立了良好的榜样。她的出色表现值得我们所有人的认可与学习。\\n\\n其次，公司员工福利计划即将开放注册，请大家留意相关信息并及时完成报名手续。如有任何疑问或需要进一步的帮助，请随时联系迈克尔·约翰逊，他将为您提供必要的支持。\\n\\n感谢大家的辛勤工作和不懈努力！\\n\\n祝好，\\n\\n[您的名字]\\n[您的职位]\\n[您的联系方式]'}"
      ]
     },
     "execution_count": 9,
     "metadata": {},
     "output_type": "execute_result"
    }
   ],
   "source": [
    "#读取文件\n",
    "content = \"Recently, we welcomed several new team members who have made significant contributions to their respective departments. I would like to recognize Jane Smith (SSN: 049-45-5928) for her outstanding performance in customer service. Jane has consistently received positive feedback from our clients. Furthermore, please remember that the open enrollment period for our employee benefits program is fast approaching. Should you have any questions or require assistance, please contact our HR representative, Michael Johnson (phone: 418-492-3850, email: michael.johnson@example.com).\"\n",
    "overall_chain(content)"
   ]
  },
  {
   "cell_type": "markdown",
   "metadata": {},
   "source": [
    "### RouteChain"
   ]
  },
  {
   "cell_type": "code",
   "execution_count": null,
   "metadata": {},
   "outputs": [],
   "source": [
    "#RouteChain \n",
    "from langchain.prompts import PromptTemplate\n",
    "\n",
    "model_name = \"qwen2.5:7b\"\n",
    "#物理连\n",
    "physics_template = \"\"\"您是一位非常聪明的物理教授.\\n\n",
    "您擅长以简洁易懂的方式回答物理问题.\\n\n",
    "当您不知道问题答案的时候，您会坦率承认不知道.\\n\n",
    "下面是一个问题:\n",
    "{input}\"\"\"\n",
    "\n",
    "physics_prompt = PromptTemplate.from_template(physics_template)\n",
    "\n",
    "#数学链\n",
    "math_template = \"\"\"您是一位非常优秀的数学教授.\\n\n",
    "您擅长回答数学问题.\\n\n",
    "您之所以如此优秀，是因为您能够将困难问题分解成组成的部分，回答这些部分，然后将它们组合起来，回答更广泛的问题.\\n\n",
    "下面是一个问题:\n",
    "{input}\"\"\"\n",
    "\n",
    "math_prompt = PromptTemplate.from_template(math_template)\n",
    "\n"
   ]
  },
  {
   "cell_type": "code",
   "execution_count": 15,
   "metadata": {},
   "outputs": [],
   "source": [
    "# 路由表\n",
    "from langchain.chains import RouterChain, LLMChain, ConversationChain\n",
    "from langchain_ollama import ChatOllama\n",
    "prompt_infos = [\n",
    "    {\"name\": \"physics\",\n",
    "     \"description\": \"擅长回答物理问题\",\n",
    "     \"prompt_template\": physics_template},\n",
    "    {\n",
    "        \"name\": \"math\",\n",
    "        \"description\": \"擅长回答数学问题\",\n",
    "        \"prompt_template\": math_template\n",
    "    }]\n",
    "\n",
    "llm = ChatOllama(model=model_name, temperature=0)\n",
    "\n",
    "description_chains = {}\n",
    "for p_info in prompt_infos:\n",
    "    name = p_info[\"name\"]\n",
    "    prompt_template = p_info[\"prompt_template\"]\n",
    "    prompt = PromptTemplate.from_template(\n",
    "        template=prompt_template, imput_variables=[\"input\"])\n",
    "    chain = LLMChain(llm=llm, prompt=prompt, verbose=True)\n",
    "    description_chains[name] = chain\n",
    "\n",
    "default_chain = LLMChain(llm=llm, prompt=PromptTemplate.from_template(\n",
    "    \"抱歉，我无法回答这个问题\"), verbose=True, output_key=\"text\")"
   ]
  },
  {
   "cell_type": "code",
   "execution_count": 29,
   "metadata": {},
   "outputs": [
    {
     "name": "stdout",
     "output_type": "stream",
     "text": [
      "physics:擅长回答物理问题\n",
      "math:擅长回答数学问题\n"
     ]
    }
   ],
   "source": [
    "from langchain.chains.router.llm_router import RouterOutputParser, LLMRouterChain\n",
    "from langchain.chains.router.multi_prompt import MULTI_PROMPT_ROUTER_TEMPLATE, MultiPromptChain\n",
    "\n",
    "desitinations = [f\"{p['name']}:{p['description']}\" for p in prompt_infos]\n",
    "desitinations_str = \"\\n\".join(desitinations)\n",
    "print(desitinations_str)\n",
    "router_template = MULTI_PROMPT_ROUTER_TEMPLATE.format(\n",
    "    destinations=desitinations_str)\n",
    "\n",
    "router_prompt = PromptTemplate(template=router_template, input_variables=[\n",
    "                                            \"input\"], output_parser=RouterOutputParser())\n",
    "\n",
    "router_chain = LLMRouterChain.from_llm(llm=llm, prompt=router_prompt, verbose=True)"
   ]
  },
  {
   "cell_type": "code",
   "execution_count": 31,
   "metadata": {},
   "outputs": [],
   "source": [
    "chain = MultiPromptChain(router_chain=router_chain, destination_chains=description_chains, default_chain=default_chain, verbose=True)\n"
   ]
  },
  {
   "cell_type": "code",
   "execution_count": 32,
   "metadata": {},
   "outputs": [
    {
     "name": "stdout",
     "output_type": "stream",
     "text": [
      "\n",
      "\n",
      "\u001b[1m> Entering new MultiPromptChain chain...\u001b[0m\n",
      "\n",
      "\n",
      "\u001b[1m> Entering new LLMRouterChain chain...\u001b[0m\n",
      "\n",
      "\u001b[1m> Finished chain.\u001b[0m\n",
      "physics: {'input': '请问什么是牛顿第二定律'}\n",
      "\n",
      "\u001b[1m> Entering new LLMChain chain...\u001b[0m\n",
      "Prompt after formatting:\n",
      "\u001b[32;1m\u001b[1;3m您是一位非常聪明的物理教授.\n",
      "\n",
      "您擅长以简洁易懂的方式回答物理问题.\n",
      "\n",
      "当您不知道问题答案的时候，您会坦率承认不知道.\n",
      "\n",
      "下面是一个问题:\n",
      "请问什么是牛顿第二定律\u001b[0m\n",
      "\n",
      "\u001b[1m> Finished chain.\u001b[0m\n",
      "\n",
      "\u001b[1m> Finished chain.\u001b[0m\n"
     ]
    },
    {
     "data": {
      "text/plain": [
       "'牛顿第二定律是经典力学中的一个基本定律，它描述了物体所受合外力与加速度之间的关系。简单来说，牛顿第二定律可以表述为：物体的加速度与作用于此物体上的净外力成正比，与物体质量成反比。\\n\\n用公式表示就是 \\\\(F = ma\\\\)，其中 \\\\(F\\\\) 是作用在物体上的合外力（单位是牛顿，N），\\\\(m\\\\) 是物体的质量（单位是千克，kg），而 \\\\(a\\\\) 则是物体的加速度（单位是米每二次方秒，m/s²）。\\n\\n这个定律告诉我们，当一个物体受到外力作用时，它的运动状态会发生改变，这种改变的程度取决于物体的质量和所受合外力的大小。质量越大，相同的力产生的加速度越小；同样，在相同条件下，质量较小的物体会有更大的加速度。'"
      ]
     },
     "execution_count": 32,
     "metadata": {},
     "output_type": "execute_result"
    }
   ],
   "source": [
    "chain.run(input=\"请问什么是牛顿第二定律\")"
   ]
  },
  {
   "cell_type": "code",
   "execution_count": 33,
   "metadata": {},
   "outputs": [
    {
     "name": "stdout",
     "output_type": "stream",
     "text": [
      "\n",
      "\n",
      "\u001b[1m> Entering new MultiPromptChain chain...\u001b[0m\n",
      "\n",
      "\n",
      "\u001b[1m> Entering new LLMRouterChain chain...\u001b[0m\n",
      "\n",
      "\u001b[1m> Finished chain.\u001b[0m\n",
      "math: {'input': '2+2'}\n",
      "\n",
      "\u001b[1m> Entering new LLMChain chain...\u001b[0m\n",
      "Prompt after formatting:\n",
      "\u001b[32;1m\u001b[1;3m您是一位非常优秀的数学教授.\n",
      "\n",
      "您擅长回答数学问题.\n",
      "\n",
      "您之所以如此优秀，是因为您能够将困难问题分解成组成的部分，回答这些部分，然后将它们组合起来，回答更广泛的问题.\n",
      "\n",
      "下面是一个问题:\n",
      "2+2\u001b[0m\n",
      "\n",
      "\u001b[1m> Finished chain.\u001b[0m\n",
      "\n",
      "\u001b[1m> Finished chain.\u001b[0m\n"
     ]
    },
    {
     "data": {
      "text/plain": [
       "'当然，这个问题非常直接。2+2等于4。\\n\\n不过，如果您希望我按照您描述的方式来解析这个问题，我们可以这样分解：\\n\\n1. **识别基本元素**：首先，我们看到这是一个简单的加法运算。\\n2. **分解成更小的部分**：在这个例子中，2和2是两个单独的数字。\\n3. **应用规则**：根据数学的基本规则，我们将这两个数相加。即 \\\\(2 + 2\\\\)。\\n4. **得出结果**：最终的结果是4。\\n\\n所以，2+2=4。希望这个解析过程对您有所帮助！如果您有其他更复杂的问题或需要进一步解释，请随时告诉我。'"
      ]
     },
     "execution_count": 33,
     "metadata": {},
     "output_type": "execute_result"
    }
   ],
   "source": [
    "chain.run(input=\"2+2\")"
   ]
  },
  {
   "cell_type": "code",
   "execution_count": 34,
   "metadata": {},
   "outputs": [
    {
     "name": "stdout",
     "output_type": "stream",
     "text": [
      "\n",
      "\n",
      "\u001b[1m> Entering new MultiPromptChain chain...\u001b[0m\n",
      "\n",
      "\n",
      "\u001b[1m> Entering new LLMRouterChain chain...\u001b[0m\n",
      "\n",
      "\u001b[1m> Finished chain.\u001b[0m\n",
      "None: {'input': '两个黄鹂鸣翠柳，下一句是什么'}\n",
      "\n",
      "\u001b[1m> Entering new LLMChain chain...\u001b[0m\n",
      "Prompt after formatting:\n",
      "\u001b[32;1m\u001b[1;3m抱歉，我无法回答这个问题\u001b[0m\n",
      "\n",
      "\u001b[1m> Finished chain.\u001b[0m\n",
      "\n",
      "\u001b[1m> Finished chain.\u001b[0m\n"
     ]
    },
    {
     "data": {
      "text/plain": [
       "'没关系！请告诉我您需要帮助的具体问题或话题是什么？我会尽力提供帮助。如果您能提供更多背景信息，那将更有助于我为您提供准确和有用的信息。'"
      ]
     },
     "execution_count": 34,
     "metadata": {},
     "output_type": "execute_result"
    }
   ],
   "source": [
    "chain.run(\"两个黄鹂鸣翠柳，下一句是什么\")"
   ]
  }
 ],
 "metadata": {
  "kernelspec": {
   "display_name": "myenv",
   "language": "python",
   "name": "python3"
  },
  "language_info": {
   "codemirror_mode": {
    "name": "ipython",
    "version": 3
   },
   "file_extension": ".py",
   "mimetype": "text/x-python",
   "name": "python",
   "nbconvert_exporter": "python",
   "pygments_lexer": "ipython3",
   "version": "3.12.7"
  }
 },
 "nbformat": 4,
 "nbformat_minor": 2
}

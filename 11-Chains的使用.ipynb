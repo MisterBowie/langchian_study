{
 "cells": [
  {
   "cell_type": "markdown",
   "metadata": {},
   "source": [
    "### Chains的基本使用"
   ]
  },
  {
   "cell_type": "markdown",
   "metadata": {},
   "source": [
    "#### LLMChains的使用"
   ]
  },
  {
   "cell_type": "code",
   "execution_count": 8,
   "metadata": {},
   "outputs": [],
   "source": [
    "from langchain.chains import LLMChain\n",
    "from langchain_ollama import OllamaLLM\n",
    "from langchain.prompts import PromptTemplate\n",
    "\n",
    "model_name = \"qwen2.5:7b\"\n",
    "llm = OllamaLLM(temperature=0,model=model_name)\n",
    "\n",
    "prompt_template = \"帮我给{product}想三个可以注册的域名\"\n",
    "llm_chain = LLMChain(llm=llm,prompt= PromptTemplate.from_template(prompt_template),verbose=True)\n"
   ]
  },
  {
   "cell_type": "code",
   "execution_count": 9,
   "metadata": {},
   "outputs": [
    {
     "name": "stdout",
     "output_type": "stream",
     "text": [
      "\n",
      "\n",
      "\u001b[1m> Entering new LLMChain chain...\u001b[0m\n",
      "Prompt after formatting:\n",
      "\u001b[32;1m\u001b[1;3m帮我给AI研习社想三个可以注册的域名\u001b[0m\n",
      "\n",
      "\u001b[1m> Finished chain.\u001b[0m\n"
     ]
    },
    {
     "data": {
      "text/plain": [
       "{'product': 'AI研习社',\n",
       " 'text': '当然可以，为“AI研习社”选择合适的域名时，我们可以考虑其品牌定位、目标受众以及易于记忆的特点。以下是三个建议的域名：\\n\\n1. **aiyanxishu.com**：这个域名直接表达了主题——“AI研习”，并且“yanxi”在中文中也有学习的意思，整体简洁明了。\\n\\n2. **aiyanxishe.org**：使用“.org”后缀可以强调这是一个非营利组织或学术机构，适合用于教育和研究相关的社群。同时，“yanxishe”也保留了一定的创意空间，便于记忆。\\n\\n3. **aixianshi.com**：这个域名结合了“AI”与“研习”的首字母“Ai”，简洁易记；“xianshi”在中文中可以理解为展示或展览，寓意着分享和交流。同时，“.com”后缀在全球范围内都有较高的接受度。\\n\\n选择域名时，请确保进行适当的市场调研，检查所选域名是否已被注册，并考虑其与品牌名称的一致性以及易于记忆的程度。希望这些建议对您有所帮助！'}"
      ]
     },
     "execution_count": 9,
     "metadata": {},
     "output_type": "execute_result"
    }
   ],
   "source": [
    "llm_chain.invoke({\"product\":\"AI研习社\"})"
   ]
  },
  {
   "cell_type": "markdown",
   "metadata": {},
   "source": [
    "### SequentialChain 顺序执行"
   ]
  },
  {
   "cell_type": "code",
   "execution_count": 22,
   "metadata": {},
   "outputs": [],
   "source": [
    "# simpleSequentialChain 只支持固定的链路\n",
    "from langchain.chains import SimpleSequentialChain\n",
    "from langchain_ollama import ChatOllama\n",
    "from langchain.prompts import ChatPromptTemplate\n",
    "from langchain.chains import LLMChain\n",
    "\n",
    "model_name = \"qwen2.5:7b\"\n",
    "chat_model = ChatOllama(model=model_name,do_sample=False, temperature=0)\n",
    "\n",
    "# chain 1\n",
    "\n",
    "first_prompt = ChatPromptTemplate.from_template(\n",
    "    \"帮我给生产{product}的公司起一个响亮容易记忆的名字?\")\n",
    "\n",
    "chain_one = LLMChain(llm=chat_model, prompt=first_prompt, verbose=True)\n",
    "\n",
    "# chain 2\n",
    "\n",
    "second_prompt = ChatPromptTemplate.from_template(\n",
    "    \"用五个词来描述下这个公司的名字：{company_name}\")\n",
    "\n",
    "chain_two = LLMChain(llm=chat_model,prompt=second_prompt, verbose=True)\n",
    "\n",
    "over_all_simple_chain = SimpleSequentialChain(\n",
    "    chains=[chain_one, chain_two], verbose=True)"
   ]
  },
  {
   "cell_type": "code",
   "execution_count": 23,
   "metadata": {},
   "outputs": [
    {
     "name": "stdout",
     "output_type": "stream",
     "text": [
      "\n",
      "\n",
      "\u001b[1m> Entering new SimpleSequentialChain chain...\u001b[0m\n",
      "\n",
      "\n",
      "\u001b[1m> Entering new LLMChain chain...\u001b[0m\n",
      "Prompt after formatting:\n",
      "\u001b[32;1m\u001b[1;3mHuman: 帮我给生产AI教育机构的公司起一个响亮容易记忆的名字?\u001b[0m\n",
      "\n",
      "\u001b[1m> Finished chain.\u001b[0m\n",
      "\u001b[36;1m\u001b[1;3m当然可以！为您的AI教育机构选择一个既响亮又易于记忆的名字非常重要。这里为您提供几个建议，希望对您有所帮助：\n",
      "\n",
      "1. 智慧未来学院\n",
      "2. 明智之光教育科技\n",
      "3. 未来启航者\n",
      "4. 知识星球智能学院\n",
      "5. 慧思学堂\n",
      "6. AI领航者教育中心\n",
      "7. 智能启迪园\n",
      "\n",
      "选择公司名称时，建议考虑以下几点：\n",
      "- 名称的简洁性：尽量使用简短、易读的名字。\n",
      "- 与业务相关性：确保名字能够反映公司的核心价值和业务领域。\n",
      "- 品牌形象：选择一个能够体现您品牌个性和价值观的名字。\n",
      "\n",
      "希望这些建议对您有所帮助！如果有其他需求或想要进一步定制化建议，请随时告知。\u001b[0m\n",
      "\n",
      "\n",
      "\u001b[1m> Entering new LLMChain chain...\u001b[0m\n",
      "Prompt after formatting:\n",
      "\u001b[32;1m\u001b[1;3mHuman: 用五个词来描述下这个公司的名字：当然可以！为您的AI教育机构选择一个既响亮又易于记忆的名字非常重要。这里为您提供几个建议，希望对您有所帮助：\n",
      "\n",
      "1. 智慧未来学院\n",
      "2. 明智之光教育科技\n",
      "3. 未来启航者\n",
      "4. 知识星球智能学院\n",
      "5. 慧思学堂\n",
      "6. AI领航者教育中心\n",
      "7. 智能启迪园\n",
      "\n",
      "选择公司名称时，建议考虑以下几点：\n",
      "- 名称的简洁性：尽量使用简短、易读的名字。\n",
      "- 与业务相关性：确保名字能够反映公司的核心价值和业务领域。\n",
      "- 品牌形象：选择一个能够体现您品牌个性和价值观的名字。\n",
      "\n",
      "希望这些建议对您有所帮助！如果有其他需求或想要进一步定制化建议，请随时告知。\u001b[0m\n",
      "\n",
      "\u001b[1m> Finished chain.\u001b[0m\n",
      "\u001b[33;1m\u001b[1;3m创新、智能、未来、教育、启迪\u001b[0m\n",
      "\n",
      "\u001b[1m> Finished chain.\u001b[0m\n"
     ]
    },
    {
     "data": {
      "text/plain": [
       "{'input': 'AI教育机构', 'output': '创新、智能、未来、教育、启迪'}"
      ]
     },
     "execution_count": 23,
     "metadata": {},
     "output_type": "execute_result"
    }
   ],
   "source": [
    "over_all_simple_chain.invoke(input=\"AI教育机构\")"
   ]
  }
 ],
 "metadata": {
  "kernelspec": {
   "display_name": "myenv",
   "language": "python",
   "name": "python3"
  },
  "language_info": {
   "codemirror_mode": {
    "name": "ipython",
    "version": 3
   },
   "file_extension": ".py",
   "mimetype": "text/x-python",
   "name": "python",
   "nbconvert_exporter": "python",
   "pygments_lexer": "ipython3",
   "version": "3.12.7"
  }
 },
 "nbformat": 4,
 "nbformat_minor": 2
}

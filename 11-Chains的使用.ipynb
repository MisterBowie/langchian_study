{
 "cells": [
  {
   "cell_type": "markdown",
   "metadata": {},
   "source": [
    "### Chains的基本使用"
   ]
  },
  {
   "cell_type": "markdown",
   "metadata": {},
   "source": [
    "#### LLMChains的使用"
   ]
  },
  {
   "cell_type": "code",
   "execution_count": 6,
   "metadata": {},
   "outputs": [],
   "source": [
    "from langchain.chains import LLMChain\n",
    "from langchain_ollama import OllamaLLM\n",
    "from langchain.prompts import PromptTemplate\n",
    "\n",
    "model_name = \"qwen2.5:7b\"\n",
    "llm = OllamaLLM(temperature=0.5,model=model_name)\n",
    "\n",
    "prompt_template = \"帮我给{product}想三个可以注册的域名\"\n",
    "llm_chain = LLMChain(llm=llm,prompt= PromptTemplate.from_template(prompt_template),verbose=True)\n"
   ]
  },
  {
   "cell_type": "code",
   "execution_count": 7,
   "metadata": {},
   "outputs": [
    {
     "name": "stdout",
     "output_type": "stream",
     "text": [
      "\n",
      "\n",
      "\u001b[1m> Entering new LLMChain chain...\u001b[0m\n",
      "Prompt after formatting:\n",
      "\u001b[32;1m\u001b[1;3m帮我给AI研习社想三个可以注册的域名\u001b[0m\n",
      "\n",
      "\u001b[1m> Finished chain.\u001b[0m\n"
     ]
    },
    {
     "data": {
      "text/plain": [
       "{'product': 'AI研习社',\n",
       " 'text': '当然可以！为“AI研习社”这个名称构思适合的域名，需要考虑简洁性、易记性和相关性。以下是三种建议：\\n\\n1. **aiyanixueshe.com**：直接将“AI研习社”的主题融入域名中，“yanxiu”是中文“研习”的拼音缩写。\\n2. **aixianshengshe.com**：使用了“aixian”作为“AI研习”两词的简写，加上“shengshe”，意为“社会”或“社团”，使名字更具有社交团体的感觉。\\n3. **aiyanixueshe.org**：保留了前缀“aiyanxiu”，同时使用了.org域名后缀，适合用于非盈利组织或者学术性质的社会团体。\\n\\n请注意，在选择具体域名时，请确保进行在线查询以确认所选域名是否已被注册。希望这些建议对你有所帮助！'}"
      ]
     },
     "execution_count": 7,
     "metadata": {},
     "output_type": "execute_result"
    }
   ],
   "source": [
    "llm_chain.invoke({\"product\":\"AI研习社\"})"
   ]
  },
  {
   "cell_type": "code",
   "execution_count": null,
   "metadata": {},
   "outputs": [],
   "source": []
  }
 ],
 "metadata": {
  "kernelspec": {
   "display_name": "myenv",
   "language": "python",
   "name": "python3"
  },
  "language_info": {
   "codemirror_mode": {
    "name": "ipython",
    "version": 3
   },
   "file_extension": ".py",
   "mimetype": "text/x-python",
   "name": "python",
   "nbconvert_exporter": "python",
   "pygments_lexer": "ipython3",
   "version": "3.12.7"
  }
 },
 "nbformat": 4,
 "nbformat_minor": 2
}

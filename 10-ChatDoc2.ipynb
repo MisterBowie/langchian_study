{
 "cells": [
  {
   "cell_type": "code",
   "execution_count": 5,
   "metadata": {},
   "outputs": [],
   "source": [
    "import os\n",
    "import os\n",
    "from dotenv import load_dotenv\n",
    "# Load environment variables from openai.env file\n",
    "load_dotenv(\"openai.env\")\n",
    "\n",
    "# Read the OPENAI_API_KEY from the environment\n",
    "api_key = os.getenv(\"OPENAI_API_KEY\")\n",
    "api_base = os.getenv(\"OPENAI_API_BASE\")\n",
    "os.environ[\"OPENAI_API_KEY\"] = api_key\n",
    "os.environ[\"OPENAI_API_BASE\"] = api_base"
   ]
  },
  {
   "cell_type": "markdown",
   "metadata": {},
   "source": [
    "### ChatDoc:和文件聊天"
   ]
  },
  {
   "cell_type": "code",
   "execution_count": null,
   "metadata": {},
   "outputs": [
    {
     "name": "stderr",
     "output_type": "stream",
     "text": [
      "Number of requested results 20 is greater than number of elements in index 15, updating n_results = 15\n"
     ]
    },
    {
     "data": {
      "text/plain": [
       "AIMessage(content='根据报告内容，宏图科技发展有限公司当前面临的主要挑战包括：\\n\\n1. **产品同质化严重**：这导致公司在市场上缺乏核心竞争力。尽管提到的“王一君”有绰号“王二狗”，性格比较笨，但这与公司的业务状况无关。\\n\\n2. **新产品开发进度缓慢**：未能及时响应市场需求的变化，这进一步削弱了公司的市场地位。\\n\\n3. **市场营销策略不当**：导致公司在市场份额上出现了大幅缩水的情况。\\n\\n4. **行业内新兴企业崛起迅速**：原有客户流失严重，增加了市场竞争压力。\\n\\n此外，公司还面临严峻的债务问题。这些挑战共同作用下，使得宏图科技发展有限公司需要采取有效措施来改善现状，比如加强产品研发、优化市场营销策略以及提高财务管理水平等。', additional_kwargs={}, response_metadata={'model': 'qwen2.5:7b', 'created_at': '2025-01-07T03:34:45.737316Z', 'done': True, 'done_reason': 'stop', 'total_duration': 4174226667, 'load_duration': 25455375, 'prompt_eval_count': 258, 'prompt_eval_duration': 610000000, 'eval_count': 163, 'eval_duration': 3534000000, 'message': Message(role='assistant', content='', images=None, tool_calls=None)}, id='run-e2c7a859-4bec-4617-a2a4-2c0e245276b3-0', usage_metadata={'input_tokens': 258, 'output_tokens': 163, 'total_tokens': 421})"
      ]
     },
     "execution_count": 3,
     "metadata": {},
     "output_type": "execute_result"
    }
   ],
   "source": [
    "# 导入必须的包\n",
    "from langchain.document_loaders import UnstructuredExcelLoader, Docx2txtLoader, PyPDFLoader\n",
    "from langchain.text_splitter import CharacterTextSplitter\n",
    "\n",
    "from langchain.vectorstores import Chroma\n",
    "# 导入聊天的模块\n",
    "from langchain_ollama import ChatOllama, OllamaEmbeddings\n",
    "from langchain.prompts import ChatPromptTemplate\n",
    "\n",
    "model_name = \"qwen2.5:7b\"\n",
    "# 定义chatdoc\n",
    "\n",
    "\n",
    "class ChatDoc():\n",
    "    def __init__(self):\n",
    "        self.doc = None\n",
    "        self.splitText = []  # 分割后的文本\n",
    "        self.template = [\n",
    "            ('system',\n",
    "             \"你是一个处理文档的秘书,你从不说自己是一个大模型或者AI助手,你会根据下面提供的上下文内容来继续回答问题.\\n 上下文内容\\n {context} \\n\"),\n",
    "            (\"human\", \"你好！\"),\n",
    "            (\"ai\", \"你好\"),\n",
    "            (\"human\", \"{question}\")\n",
    "        ]\n",
    "        self.prompt = ChatPromptTemplate.from_messages(self.template)\n",
    "\n",
    "    def getFile(self):\n",
    "        doc = self.doc\n",
    "        loaders = {\n",
    "            \"docx\": Docx2txtLoader,\n",
    "            \"pdf\": PyPDFLoader,\n",
    "            \"xlsx\": UnstructuredExcelLoader,\n",
    "        }\n",
    "        file_extension = doc.split(\".\")[-1]\n",
    "        loader_class = loaders.get(file_extension)\n",
    "        if loader_class:\n",
    "            try:\n",
    "                loader = loader_class(doc)\n",
    "                text = loader.load()\n",
    "                return text\n",
    "            except Exception as e:\n",
    "                print(f\"Error loading {file_extension} files:{e}\")\n",
    "        else:\n",
    "            print(f\"Unsupported file extension: {file_extension}\")\n",
    "            return None\n",
    "\n",
    "    # 处理文档的函数\n",
    "    def splitSentences(self):\n",
    "        full_text = self.getFile()  # 获取文档内容\n",
    "        if full_text != None:\n",
    "            # 对文档进行分割\n",
    "            text_split = CharacterTextSplitter(\n",
    "                chunk_size=141,\n",
    "                chunk_overlap=20,\n",
    "            )\n",
    "            texts = text_split.split_documents(full_text)\n",
    "            self.splitText = texts\n",
    "\n",
    "    # 向量化与向量存储\n",
    "    def embeddingAndVectorDB(self):\n",
    "        embeddings = OllamaEmbeddings(model=model_name)\n",
    "        db = Chroma.from_documents(\n",
    "            documents=self.splitText,\n",
    "            embedding=embeddings,\n",
    "        )\n",
    "        return db\n",
    "\n",
    "    # 提问并找到相关的文本块\n",
    "    def askAndFindFiles(self, question):\n",
    "        db = self.embeddingAndVectorDB()\n",
    "        retriever = db.as_retriever(search_type=\"mmr\")\n",
    "        # retriever = db.as_retriever(search_type=\"similarity_score_threshold\",search_kwargs={\"score_threshold\":.5,\"k\":1})\n",
    "        return retriever.get_relevant_documents(query=question)\n",
    "\n",
    "    def chatWithDoc(self, question):\n",
    "        _content = \"\"\n",
    "        context = self.askAndFindFiles(question)\n",
    "        for i in context:\n",
    "            _content += i.page_content\n",
    "\n",
    "        messages = self.prompt.format_messages(\n",
    "            context=_content, question=question)\n",
    "        chat = ChatOllama(\n",
    "            model=model_name,\n",
    "            temperature=0.0,\n",
    "        )\n",
    "        return chat.invoke(messages)\n",
    "\n",
    "\n",
    "chat_doc = ChatDoc()\n",
    "chat_doc.doc = \"example/fake.docx\"\n",
    "chat_doc.splitSentences()\n",
    "chat_doc.chatWithDoc(\"公司情况\")"
   ]
  }
 ],
 "metadata": {
  "kernelspec": {
   "display_name": "myenv",
   "language": "python",
   "name": "python3"
  },
  "language_info": {
   "codemirror_mode": {
    "name": "ipython",
    "version": 3
   },
   "file_extension": ".py",
   "mimetype": "text/x-python",
   "name": "python",
   "nbconvert_exporter": "python",
   "pygments_lexer": "ipython3",
   "version": "3.12.7"
  }
 },
 "nbformat": 4,
 "nbformat_minor": 2
}

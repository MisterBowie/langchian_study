{
 "cells": [
  {
   "cell_type": "markdown",
   "metadata": {},
   "source": [
    "#文档转换\n",
    "1. 将文档分成晓得、有意义的快（句子）\n",
    "2. 讲笑的块组合成更大的块，直到达到一定的大小。\n",
    "3. 一旦达到一定的大小，接着开始创建下一个块的重叠部分。\n",
    "\n",
    "#示例\n",
    "- 第一个文档的分割\n",
    "- 按字符分割\n",
    "- 代码文档分割\n",
    "- 按token分割"
   ]
  },
  {
   "cell_type": "markdown",
   "metadata": {},
   "source": [
    "## 第一个文档分割"
   ]
  },
  {
   "cell_type": "code",
   "execution_count": 2,
   "metadata": {},
   "outputs": [
    {
     "data": {
      "text/plain": [
       "Document(metadata={'start_index': 6}, page_content='蒂法·洛克哈特(日语:ティファ・ロックハート，Tifa Rokkuhāto，英语:Tifa Lockhart)为电子游戏《最终幻想VII》及《最终幻想VII补完计划》相关作品中的虚构⻆')"
      ]
     },
     "execution_count": 2,
     "metadata": {},
     "output_type": "execute_result"
    }
   ],
   "source": [
    "from langchain.text_splitter import RecursiveCharacterTextSplitter\n",
    "\n",
    "with open(\"test.txt\") as f:\n",
    "    zuizhonghuanxiang = f.read()\n",
    "\n",
    "\n",
    "text_splitter = RecursiveCharacterTextSplitter(\n",
    "    chunk_size = 100, #切分文本块大小，一般通过长度函数计算\n",
    "    chunk_overlap  = 20, # 切分的文本块重叠长度，一般通过长度函数计算\n",
    "    length_function = len, # 文本块长度函数，默认为len\n",
    "    add_start_index = True # 是否在文本块开头添加起始索引，默认为True\n",
    ")\n",
    "\n",
    "text = text_splitter.create_documents([zuizhonghuanxiang])\n",
    "text[0]\n",
    "text[1]"
   ]
  },
  {
   "cell_type": "markdown",
   "metadata": {},
   "source": [
    "### 按字符切割\n"
   ]
  },
  {
   "cell_type": "code",
   "execution_count": 4,
   "metadata": {},
   "outputs": [
    {
     "name": "stderr",
     "output_type": "stream",
     "text": [
      "Created a chunk of size 125, which is longer than the specified 100\n",
      "Created a chunk of size 105, which is longer than the specified 100\n"
     ]
    },
    {
     "name": "stdout",
     "output_type": "stream",
     "text": [
      "page_content='蒂法介绍\n",
      "蒂法·洛克哈特(日语:ティファ・ロックハート，Tifa Rokkuhāto，英语:Tifa Lockhart)为电子游戏《最终幻想VII》及《最终幻想VII补完计划》相关作品中的虚构⻆ 色，由􏰀村哲也创作和设计，此后也在多个游戏中客串登场' metadata={'start_index': 1}\n"
     ]
    }
   ],
   "source": [
    "from langchain.text_splitter import CharacterTextSplitter\n",
    "\n",
    "with open(\"test.txt\") as f:\n",
    "    zuizhonghuanxiang = f.read()\n",
    "\n",
    "text_splitter = CharacterTextSplitter(\n",
    "    separator=\"。\", # 切分文本的分隔符，一般使用标点符号 默认是 \\n\\n\n",
    "    chunk_size = 100, #切分文本块大小，一般通过长度函数计算\n",
    "    chunk_overlap  = 20, # 切分的文本块重叠长度，一般通过长度函数计算\n",
    "    length_function = len, # 文本块长度函数，默认为len\n",
    "    add_start_index = True # 是否在文本块开头添加起始索引，默认为True\n",
    ")\n",
    "\n",
    "text = text_splitter.create_documents([zuizhonghuanxiang])\n",
    "print(text[0])"
   ]
  },
  {
   "cell_type": "markdown",
   "metadata": {},
   "source": [
    "### 代码文档"
   ]
  },
  {
   "cell_type": "code",
   "execution_count": 7,
   "metadata": {},
   "outputs": [
    {
     "data": {
      "text/plain": [
       "[Document(metadata={}, page_content='def hello_world():\\n    print(\"Hello, World!\")\\n\\nhello_world()')]"
      ]
     },
     "execution_count": 7,
     "metadata": {},
     "output_type": "execute_result"
    }
   ],
   "source": [
    "from langchain.text_splitter import RecursiveCharacterTextSplitter, Language\n",
    "\n",
    "PYTHOIN_CODE = \"\"\"\n",
    "def hello_world():\n",
    "    print(\"Hello, World!\")\n",
    "\n",
    "hello_world()\n",
    "\"\"\"\n",
    "\n",
    "py_splitter = RecursiveCharacterTextSplitter.from_language(\n",
    "    language = Language.PYTHON,\n",
    "    chunk_size=100,\n",
    "    chunk_overlap=20,\n",
    ")\n",
    "\n",
    "python_deocs = py_splitter.create_documents([PYTHOIN_CODE])\n",
    "python_deocs\n"
   ]
  },
  {
   "cell_type": "markdown",
   "metadata": {},
   "source": [
    "### 按Token切割"
   ]
  },
  {
   "cell_type": "code",
   "execution_count": 9,
   "metadata": {},
   "outputs": [
    {
     "name": "stderr",
     "output_type": "stream",
     "text": [
      "Created a chunk of size 3155, which is longer than the specified 1000\n",
      "Created a chunk of size 2438, which is longer than the specified 1000\n"
     ]
    },
    {
     "name": "stdout",
     "output_type": "stream",
     "text": [
      "蒂法介绍\n",
      "蒂法·洛克哈特(日语:ティファ・ロックハート，Tifa Rokkuhāto，英语:Tifa Lockhart)为电子游戏《最终幻想VII》及《最终幻想VII补完计划》相关作品中的虚构⻆ 色，由􏰀村哲也创作和设计，此后也在多个游戏中客串登场。 2014年东京电玩展上，星名美津纪cosplay《最终幻想VII 降临之子》中的蒂法·洛克哈特 蒂法是克劳德的⻘梅竹⻢，两人同为尼布鲁海姆出身。在米德加经营作为反抗组织“雪崩”根 据地的酒馆“第七天堂”，并且是小有名气的招牌店员。擅⻓格斗，以拳套为武器。本传7年前 克劳德离开故乡从军时，曾许下约定“如果有危机时一定会保护她”。与爱丽丝相识之后，两 人成为好友。第一个察觉克劳德记忆混乱的人，后来协助精神崩溃的克劳德􏰁新找回真正的自 己。本传的大战结束后，依大家的期待在战后新生的米德加再次开设第七天堂(原第七天堂因 第柒区圆盘崩塌遭压毁)，同时也照顾一群受到星痕症候群折磨的孩子们。 蒂法被《纽约时报》称为“网络一代”的海报女郎，与劳拉·克罗夫特相比，她是电子游戏中坚 强、􏰂立和有吸引力的女性⻆色的典型代表。媒体普遍称赞其实力和外表，并称她为游戏世界 中最好的女性⻆色之一。 在《最终幻想VII》本传中，蒂法年龄20岁、身高167cm、生日5月3日、血型B型、出生地尼 布尔海姆。\n",
      "登场\n",
      "《最终幻想VII》 蒂法在《最终幻想VII》原版中首次亮相，是克劳德的⻘梅竹⻢、第七天堂酒吧的看板娘、极 端环境组织“雪崩”成员，该组织反抗巨型企业“神罗”因其大􏰃抽取魔晄用作动力能源。在注 意到克劳德的性格改变后，她说服克劳德加入雪崩，以密切关注他，并且跟随他追寻游戏中的 对手萨菲罗斯。她无法阻止克劳德被萨菲罗斯操纵，在他的精神崩溃后，她帮助克劳德康复， 并且两人意识到彼此间的相互感觉，最后与伙伴们一同击败了萨菲罗斯。[2] 在闪回中可知，儿时的蒂法一直是村中小孩的人气王。在母亲过世后，思念母亲的蒂法决定沿 着小路走到他们故乡尼布尔海姆附近的一座山上，认为这样就能⻅到过世的母亲，原本跟着蒂 法的其他小孩都在半路上因害怕而放弃，唯􏰂克劳德仍坚定的在后面跟随，希望能在危机时保 护蒂法。然而，他们俩都从山上跌落受伤，蒂法昏迷了一个星期，她的父亲认为克劳德对此负 有责任[3]，甚为严令禁止克劳德再接近蒂法，但蒂法反而从此更在意克劳德，两人成为要好 的玩伴。为了使自己变得更强大，克劳德最终选择离开尼布尔海姆，加入神罗，想要成为神罗 的精英战士“神罗战士”(SOLDIER)，但后来透露他主要是为了吸引蒂法的注意力。离开之 前，蒂法与克劳德约定，当蒂法处于困境之中时，克劳德会回来救她。从克劳德离开之后，蒂 法便开始留意神罗战士的消息，因为神罗战士都成为声名远播的知名人物，如果克劳德成为神 罗战士，他的活跃也会立刻传回尼布尔海姆。数年后，在萨菲罗斯摧毁了尼布尔海姆之后，克 劳德为了救蒂法，被萨菲罗斯刺至􏰁伤。蒂法被她的武术教练赞干带到安全地带，幸存下来， 最终到达米德加并遇⻅了“雪崩”的领导人巴雷特·华莱士。病愈后，蒂法加入了“雪崩”，为 了给家乡被毁一事报仇。一天，她在火⻋站遇到了从魔晄炉中逃出来、精神一片混乱的克劳 德，蒂法说服了他为巴雷特工作，以保证克劳德的安全以及和克劳德保持紧密关系。这是游戏 开始的地方。 在原版《最终幻想VII》中蒂法与爱丽丝关系友好，但会在某些时候争⻛吃醋，例如在神罗总 部营救爱丽丝时，蒂法及巴雷特等一行失手被擒，若克劳德选择关心爱丽丝的话蒂法的对话中 明显带有妒忌。在􏰁制版中虽然删去这段情节，但保留了这种关系。 在《最终幻想VII》的初稿中，蒂法是背景人物。她在“雪崩”中的作用是在幕后支持，在执 行任务后为所有人加油鼓劲，并且对克劳德有特别的关心。据推测，她的背上有一块大的疤\n"
     ]
    }
   ],
   "source": [
    "from langchain.text_splitter import CharacterTextSplitter\n",
    "\n",
    "with open(\"test.txt\") as f:\n",
    "    zuizhonghuanxiang = f.read()\n",
    "\n",
    "text_splitter = CharacterTextSplitter.from_tiktoken_encoder(\n",
    "    chunk_size=1000,\n",
    "    chunk_overlap=30\n",
    ")\n",
    "\n",
    "text = text_splitter.split_text(zuizhonghuanxiang)\n",
    "print(text[0])"
   ]
  },
  {
   "cell_type": "markdown",
   "metadata": {},
   "source": [
    "### 文档总结、精炼、翻译"
   ]
  },
  {
   "cell_type": "code",
   "execution_count": 24,
   "metadata": {},
   "outputs": [
    {
     "name": "stdout",
     "output_type": "stream",
     "text": [
      "Requirement already satisfied: doctran in /Users/vv/.pyenv/versions/3.10.5/lib/python3.10/site-packages (0.0.14)\n",
      "Requirement already satisfied: presidio-anonymizer<3.0.0,>=2.2.33 in /Users/vv/.pyenv/versions/3.10.5/lib/python3.10/site-packages (from doctran) (2.2.355)\n",
      "Requirement already satisfied: presidio-analyzer<3.0.0,>=2.2.33 in /Users/vv/.pyenv/versions/3.10.5/lib/python3.10/site-packages (from doctran) (2.2.355)\n",
      "Requirement already satisfied: lxml<5.0.0,>=4.9.2 in /Users/vv/.pyenv/versions/3.10.5/lib/python3.10/site-packages (from doctran) (4.9.4)\n",
      "Requirement already satisfied: tiktoken<0.6.0,>=0.5.0 in /Users/vv/.pyenv/versions/3.10.5/lib/python3.10/site-packages (from doctran) (0.5.2)\n",
      "Requirement already satisfied: openai<0.28.0,>=0.27.8 in /Users/vv/.pyenv/versions/3.10.5/lib/python3.10/site-packages (from doctran) (0.27.10)\n",
      "Requirement already satisfied: spacy<4.0.0,>=3.5.4 in /Users/vv/.pyenv/versions/3.10.5/lib/python3.10/site-packages (from doctran) (3.8.2)\n",
      "Requirement already satisfied: pydantic<2.0.0,>=1.10.9 in /Users/vv/.pyenv/versions/3.10.5/lib/python3.10/site-packages (from doctran) (1.10.19)\n",
      "Requirement already satisfied: aiohttp in /Users/vv/.pyenv/versions/3.10.5/lib/python3.10/site-packages (from openai<0.28.0,>=0.27.8->doctran) (3.11.7)\n",
      "Requirement already satisfied: tqdm in /Users/vv/.pyenv/versions/3.10.5/lib/python3.10/site-packages (from openai<0.28.0,>=0.27.8->doctran) (4.67.0)\n",
      "Requirement already satisfied: requests>=2.20 in /Users/vv/.pyenv/versions/3.10.5/lib/python3.10/site-packages (from openai<0.28.0,>=0.27.8->doctran) (2.32.3)\n",
      "Requirement already satisfied: regex in /Users/vv/.pyenv/versions/3.10.5/lib/python3.10/site-packages (from presidio-analyzer<3.0.0,>=2.2.33->doctran) (2024.11.6)\n",
      "Requirement already satisfied: phonenumbers<9.0.0,>=8.12 in /Users/vv/.pyenv/versions/3.10.5/lib/python3.10/site-packages (from presidio-analyzer<3.0.0,>=2.2.33->doctran) (8.13.50)\n",
      "Requirement already satisfied: tldextract in /Users/vv/.pyenv/versions/3.10.5/lib/python3.10/site-packages (from presidio-analyzer<3.0.0,>=2.2.33->doctran) (5.1.3)\n",
      "Requirement already satisfied: pyyaml in /Users/vv/.pyenv/versions/3.10.5/lib/python3.10/site-packages (from presidio-analyzer<3.0.0,>=2.2.33->doctran) (6.0.2)\n",
      "Requirement already satisfied: azure-core in /Users/vv/.pyenv/versions/3.10.5/lib/python3.10/site-packages (from presidio-anonymizer<3.0.0,>=2.2.33->doctran) (1.32.0)\n",
      "Requirement already satisfied: pycryptodome>=3.10.1 in /Users/vv/.pyenv/versions/3.10.5/lib/python3.10/site-packages (from presidio-anonymizer<3.0.0,>=2.2.33->doctran) (3.21.0)\n",
      "Requirement already satisfied: typing-extensions>=4.2.0 in /Users/vv/.pyenv/versions/3.10.5/lib/python3.10/site-packages (from pydantic<2.0.0,>=1.10.9->doctran) (4.12.2)\n",
      "Requirement already satisfied: numpy>=1.19.0 in /Users/vv/.pyenv/versions/3.10.5/lib/python3.10/site-packages (from spacy<4.0.0,>=3.5.4->doctran) (2.0.2)\n",
      "Requirement already satisfied: jinja2 in /Users/vv/.pyenv/versions/3.10.5/lib/python3.10/site-packages (from spacy<4.0.0,>=3.5.4->doctran) (3.1.4)\n",
      "Requirement already satisfied: cymem<2.1.0,>=2.0.2 in /Users/vv/.pyenv/versions/3.10.5/lib/python3.10/site-packages (from spacy<4.0.0,>=3.5.4->doctran) (2.0.10)\n",
      "Requirement already satisfied: typer<1.0.0,>=0.3.0 in /Users/vv/.pyenv/versions/3.10.5/lib/python3.10/site-packages (from spacy<4.0.0,>=3.5.4->doctran) (0.13.1)\n",
      "Requirement already satisfied: murmurhash<1.1.0,>=0.28.0 in /Users/vv/.pyenv/versions/3.10.5/lib/python3.10/site-packages (from spacy<4.0.0,>=3.5.4->doctran) (1.0.11)\n",
      "Requirement already satisfied: spacy-legacy<3.1.0,>=3.0.11 in /Users/vv/.pyenv/versions/3.10.5/lib/python3.10/site-packages (from spacy<4.0.0,>=3.5.4->doctran) (3.0.12)\n",
      "Requirement already satisfied: setuptools in /Users/vv/.pyenv/versions/3.10.5/lib/python3.10/site-packages (from spacy<4.0.0,>=3.5.4->doctran) (58.1.0)\n",
      "Requirement already satisfied: spacy-loggers<2.0.0,>=1.0.0 in /Users/vv/.pyenv/versions/3.10.5/lib/python3.10/site-packages (from spacy<4.0.0,>=3.5.4->doctran) (1.0.5)\n",
      "Requirement already satisfied: weasel<0.5.0,>=0.1.0 in /Users/vv/.pyenv/versions/3.10.5/lib/python3.10/site-packages (from spacy<4.0.0,>=3.5.4->doctran) (0.4.1)\n",
      "Requirement already satisfied: wasabi<1.2.0,>=0.9.1 in /Users/vv/.pyenv/versions/3.10.5/lib/python3.10/site-packages (from spacy<4.0.0,>=3.5.4->doctran) (1.1.3)\n",
      "Requirement already satisfied: packaging>=20.0 in /Users/vv/.pyenv/versions/3.10.5/lib/python3.10/site-packages (from spacy<4.0.0,>=3.5.4->doctran) (24.2)\n",
      "Requirement already satisfied: preshed<3.1.0,>=3.0.2 in /Users/vv/.pyenv/versions/3.10.5/lib/python3.10/site-packages (from spacy<4.0.0,>=3.5.4->doctran) (3.0.9)\n",
      "Requirement already satisfied: catalogue<2.1.0,>=2.0.6 in /Users/vv/.pyenv/versions/3.10.5/lib/python3.10/site-packages (from spacy<4.0.0,>=3.5.4->doctran) (2.0.10)\n",
      "Requirement already satisfied: srsly<3.0.0,>=2.4.3 in /Users/vv/.pyenv/versions/3.10.5/lib/python3.10/site-packages (from spacy<4.0.0,>=3.5.4->doctran) (2.4.8)\n",
      "Requirement already satisfied: langcodes<4.0.0,>=3.2.0 in /Users/vv/.pyenv/versions/3.10.5/lib/python3.10/site-packages (from spacy<4.0.0,>=3.5.4->doctran) (3.5.0)\n",
      "Requirement already satisfied: thinc<8.4.0,>=8.3.0 in /Users/vv/.pyenv/versions/3.10.5/lib/python3.10/site-packages (from spacy<4.0.0,>=3.5.4->doctran) (8.3.2)\n",
      "Requirement already satisfied: language-data>=1.2 in /Users/vv/.pyenv/versions/3.10.5/lib/python3.10/site-packages (from langcodes<4.0.0,>=3.2.0->spacy<4.0.0,>=3.5.4->doctran) (1.3.0)\n",
      "Requirement already satisfied: certifi>=2017.4.17 in /Users/vv/.pyenv/versions/3.10.5/lib/python3.10/site-packages (from requests>=2.20->openai<0.28.0,>=0.27.8->doctran) (2024.8.30)\n",
      "Requirement already satisfied: idna<4,>=2.5 in /Users/vv/.pyenv/versions/3.10.5/lib/python3.10/site-packages (from requests>=2.20->openai<0.28.0,>=0.27.8->doctran) (3.10)\n",
      "Requirement already satisfied: charset-normalizer<4,>=2 in /Users/vv/.pyenv/versions/3.10.5/lib/python3.10/site-packages (from requests>=2.20->openai<0.28.0,>=0.27.8->doctran) (3.4.0)\n",
      "Requirement already satisfied: urllib3<3,>=1.21.1 in /Users/vv/.pyenv/versions/3.10.5/lib/python3.10/site-packages (from requests>=2.20->openai<0.28.0,>=0.27.8->doctran) (2.2.3)\n",
      "Requirement already satisfied: confection<1.0.0,>=0.0.1 in /Users/vv/.pyenv/versions/3.10.5/lib/python3.10/site-packages (from thinc<8.4.0,>=8.3.0->spacy<4.0.0,>=3.5.4->doctran) (0.1.5)\n",
      "Requirement already satisfied: blis<1.1.0,>=1.0.0 in /Users/vv/.pyenv/versions/3.10.5/lib/python3.10/site-packages (from thinc<8.4.0,>=8.3.0->spacy<4.0.0,>=3.5.4->doctran) (1.0.1)\n",
      "Requirement already satisfied: rich>=10.11.0 in /Users/vv/.pyenv/versions/3.10.5/lib/python3.10/site-packages (from typer<1.0.0,>=0.3.0->spacy<4.0.0,>=3.5.4->doctran) (13.9.4)\n",
      "Requirement already satisfied: shellingham>=1.3.0 in /Users/vv/.pyenv/versions/3.10.5/lib/python3.10/site-packages (from typer<1.0.0,>=0.3.0->spacy<4.0.0,>=3.5.4->doctran) (1.5.4)\n",
      "Requirement already satisfied: click>=8.0.0 in /Users/vv/.pyenv/versions/3.10.5/lib/python3.10/site-packages (from typer<1.0.0,>=0.3.0->spacy<4.0.0,>=3.5.4->doctran) (8.1.7)\n",
      "Requirement already satisfied: smart-open<8.0.0,>=5.2.1 in /Users/vv/.pyenv/versions/3.10.5/lib/python3.10/site-packages (from weasel<0.5.0,>=0.1.0->spacy<4.0.0,>=3.5.4->doctran) (7.0.5)\n",
      "Requirement already satisfied: cloudpathlib<1.0.0,>=0.7.0 in /Users/vv/.pyenv/versions/3.10.5/lib/python3.10/site-packages (from weasel<0.5.0,>=0.1.0->spacy<4.0.0,>=3.5.4->doctran) (0.20.0)\n",
      "Requirement already satisfied: aiosignal>=1.1.2 in /Users/vv/.pyenv/versions/3.10.5/lib/python3.10/site-packages (from aiohttp->openai<0.28.0,>=0.27.8->doctran) (1.3.1)\n",
      "Requirement already satisfied: yarl<2.0,>=1.17.0 in /Users/vv/.pyenv/versions/3.10.5/lib/python3.10/site-packages (from aiohttp->openai<0.28.0,>=0.27.8->doctran) (1.18.0)\n",
      "Requirement already satisfied: async-timeout<6.0,>=4.0 in /Users/vv/.pyenv/versions/3.10.5/lib/python3.10/site-packages (from aiohttp->openai<0.28.0,>=0.27.8->doctran) (4.0.3)\n",
      "Requirement already satisfied: attrs>=17.3.0 in /Users/vv/.pyenv/versions/3.10.5/lib/python3.10/site-packages (from aiohttp->openai<0.28.0,>=0.27.8->doctran) (24.2.0)\n",
      "Requirement already satisfied: propcache>=0.2.0 in /Users/vv/.pyenv/versions/3.10.5/lib/python3.10/site-packages (from aiohttp->openai<0.28.0,>=0.27.8->doctran) (0.2.0)\n",
      "Requirement already satisfied: multidict<7.0,>=4.5 in /Users/vv/.pyenv/versions/3.10.5/lib/python3.10/site-packages (from aiohttp->openai<0.28.0,>=0.27.8->doctran) (6.1.0)\n",
      "Requirement already satisfied: aiohappyeyeballs>=2.3.0 in /Users/vv/.pyenv/versions/3.10.5/lib/python3.10/site-packages (from aiohttp->openai<0.28.0,>=0.27.8->doctran) (2.4.3)\n",
      "Requirement already satisfied: frozenlist>=1.1.1 in /Users/vv/.pyenv/versions/3.10.5/lib/python3.10/site-packages (from aiohttp->openai<0.28.0,>=0.27.8->doctran) (1.5.0)\n",
      "Requirement already satisfied: six>=1.11.0 in /Users/vv/.pyenv/versions/3.10.5/lib/python3.10/site-packages (from azure-core->presidio-anonymizer<3.0.0,>=2.2.33->doctran) (1.16.0)\n",
      "Requirement already satisfied: MarkupSafe>=2.0 in /Users/vv/.pyenv/versions/3.10.5/lib/python3.10/site-packages (from jinja2->spacy<4.0.0,>=3.5.4->doctran) (3.0.2)\n",
      "Requirement already satisfied: requests-file>=1.4 in /Users/vv/.pyenv/versions/3.10.5/lib/python3.10/site-packages (from tldextract->presidio-analyzer<3.0.0,>=2.2.33->doctran) (2.1.0)\n",
      "Requirement already satisfied: filelock>=3.0.8 in /Users/vv/.pyenv/versions/3.10.5/lib/python3.10/site-packages (from tldextract->presidio-analyzer<3.0.0,>=2.2.33->doctran) (3.16.1)\n",
      "Requirement already satisfied: marisa-trie>=1.1.0 in /Users/vv/.pyenv/versions/3.10.5/lib/python3.10/site-packages (from language-data>=1.2->langcodes<4.0.0,>=3.2.0->spacy<4.0.0,>=3.5.4->doctran) (1.2.1)\n",
      "Requirement already satisfied: markdown-it-py>=2.2.0 in /Users/vv/.pyenv/versions/3.10.5/lib/python3.10/site-packages (from rich>=10.11.0->typer<1.0.0,>=0.3.0->spacy<4.0.0,>=3.5.4->doctran) (3.0.0)\n",
      "Requirement already satisfied: pygments<3.0.0,>=2.13.0 in /Users/vv/.pyenv/versions/3.10.5/lib/python3.10/site-packages (from rich>=10.11.0->typer<1.0.0,>=0.3.0->spacy<4.0.0,>=3.5.4->doctran) (2.18.0)\n",
      "Requirement already satisfied: wrapt in /Users/vv/.pyenv/versions/3.10.5/lib/python3.10/site-packages (from smart-open<8.0.0,>=5.2.1->weasel<0.5.0,>=0.1.0->spacy<4.0.0,>=3.5.4->doctran) (1.17.0)\n",
      "Requirement already satisfied: mdurl~=0.1 in /Users/vv/.pyenv/versions/3.10.5/lib/python3.10/site-packages (from markdown-it-py>=2.2.0->rich>=10.11.0->typer<1.0.0,>=0.3.0->spacy<4.0.0,>=3.5.4->doctran) (0.1.2)\n",
      "\u001b[33mWARNING: You are using pip version 22.0.4; however, version 24.3.1 is available.\n",
      "You should consider upgrading via the '/Users/vv/.pyenv/versions/3.10.5/bin/python3.10 -m pip install --upgrade pip' command.\u001b[0m\u001b[33m\n",
      "\u001b[0m"
     ]
    }
   ],
   "source": [
    "! pip install doctran"
   ]
  },
  {
   "cell_type": "code",
   "execution_count": 25,
   "metadata": {},
   "outputs": [],
   "source": [
    "with open(\"letter.txt\") as f:\n",
    "    content = f.read()"
   ]
  },
  {
   "cell_type": "code",
   "execution_count": 26,
   "metadata": {},
   "outputs": [
    {
     "ename": "ValidationError",
     "evalue": "1 validation error for DoctranConfig\nopenai_deployment_id\n  Field required [type=missing, input_value={'openai_model': 'gpt-3.5...enai_token_limit': 8000}, input_type=dict]\n    For further information visit https://errors.pydantic.dev/2.10/v/missing",
     "output_type": "error",
     "traceback": [
      "\u001b[0;31m---------------------------------------------------------------------------\u001b[0m",
      "\u001b[0;31mValidationError\u001b[0m                           Traceback (most recent call last)",
      "Cell \u001b[0;32mIn[26], line 10\u001b[0m\n\u001b[1;32m      7\u001b[0m OPENAI_TOKEN_LIMIT \u001b[38;5;241m=\u001b[39m \u001b[38;5;241m8000\u001b[39m\n\u001b[1;32m      9\u001b[0m \u001b[38;5;28;01mfrom\u001b[39;00m \u001b[38;5;21;01mdoctran\u001b[39;00m \u001b[38;5;28;01mimport\u001b[39;00m Doctran\n\u001b[0;32m---> 10\u001b[0m doctrans \u001b[38;5;241m=\u001b[39m \u001b[43mDoctran\u001b[49m\u001b[43m(\u001b[49m\n\u001b[1;32m     11\u001b[0m \u001b[43m    \u001b[49m\u001b[43mopenai_api_key\u001b[49m\u001b[38;5;241;43m=\u001b[39;49m\u001b[43mOPENAI_API_KEY\u001b[49m\u001b[43m,\u001b[49m\n\u001b[1;32m     12\u001b[0m \u001b[43m    \u001b[49m\u001b[43mopenai_model\u001b[49m\u001b[38;5;241;43m=\u001b[39;49m\u001b[43mOPENAI_MODEL\u001b[49m\u001b[43m,\u001b[49m\n\u001b[1;32m     13\u001b[0m \u001b[43m    \u001b[49m\u001b[43mopenai_token_limit\u001b[49m\u001b[38;5;241;43m=\u001b[39;49m\u001b[43mOPENAI_TOKEN_LIMIT\u001b[49m\u001b[43m,\u001b[49m\n\u001b[1;32m     14\u001b[0m \u001b[43m)\u001b[49m\n\u001b[1;32m     15\u001b[0m documents \u001b[38;5;241m=\u001b[39m doctrans\u001b[38;5;241m.\u001b[39mparse(content\u001b[38;5;241m=\u001b[39mcontent)\n",
      "File \u001b[0;32m~/.pyenv/versions/3.10.5/lib/python3.10/site-packages/doctran/doctran.py:172\u001b[0m, in \u001b[0;36mDoctran.__init__\u001b[0;34m(self, openai_api_key, openai_model, openai_token_limit, openai_deployment_id)\u001b[0m\n\u001b[1;32m    171\u001b[0m \u001b[38;5;28;01mdef\u001b[39;00m \u001b[38;5;21m__init__\u001b[39m(\u001b[38;5;28mself\u001b[39m, openai_api_key: \u001b[38;5;28mstr\u001b[39m \u001b[38;5;241m=\u001b[39m \u001b[38;5;28;01mNone\u001b[39;00m, openai_model: \u001b[38;5;28mstr\u001b[39m \u001b[38;5;241m=\u001b[39m \u001b[38;5;124m\"\u001b[39m\u001b[38;5;124mgpt-4\u001b[39m\u001b[38;5;124m\"\u001b[39m, openai_token_limit: \u001b[38;5;28mint\u001b[39m \u001b[38;5;241m=\u001b[39m \u001b[38;5;241m8000\u001b[39m, openai_deployment_id: Optional[\u001b[38;5;28mstr\u001b[39m] \u001b[38;5;241m=\u001b[39m \u001b[38;5;28;01mNone\u001b[39;00m):\n\u001b[0;32m--> 172\u001b[0m     \u001b[38;5;28mself\u001b[39m\u001b[38;5;241m.\u001b[39mconfig \u001b[38;5;241m=\u001b[39m \u001b[43mDoctranConfig\u001b[49m\u001b[43m(\u001b[49m\n\u001b[1;32m    173\u001b[0m \u001b[43m        \u001b[49m\u001b[43mopenai_model\u001b[49m\u001b[38;5;241;43m=\u001b[39;49m\u001b[43mopenai_model\u001b[49m\u001b[43m,\u001b[49m\n\u001b[1;32m    174\u001b[0m \u001b[43m        \u001b[49m\u001b[43mopenai\u001b[49m\u001b[38;5;241;43m=\u001b[39;49m\u001b[43mopenai\u001b[49m\u001b[43m,\u001b[49m\n\u001b[1;32m    175\u001b[0m \u001b[43m        \u001b[49m\u001b[43mopenai_token_limit\u001b[49m\u001b[38;5;241;43m=\u001b[39;49m\u001b[43mopenai_token_limit\u001b[49m\n\u001b[1;32m    176\u001b[0m \u001b[43m    \u001b[49m\u001b[43m)\u001b[49m\n\u001b[1;32m    177\u001b[0m     \u001b[38;5;28;01mif\u001b[39;00m openai_api_key:\n\u001b[1;32m    178\u001b[0m         \u001b[38;5;28mself\u001b[39m\u001b[38;5;241m.\u001b[39mconfig\u001b[38;5;241m.\u001b[39mopenai\u001b[38;5;241m.\u001b[39mapi_key \u001b[38;5;241m=\u001b[39m openai_api_key\n",
      "File \u001b[0;32m~/.pyenv/versions/3.10.5/lib/python3.10/site-packages/pydantic/main.py:214\u001b[0m, in \u001b[0;36m__init__\u001b[0;34m(self, **data)\u001b[0m\n\u001b[1;32m    210\u001b[0m \u001b[38;5;28;01mif\u001b[39;00m \u001b[38;5;28misinstance\u001b[39m(value, ModelPrivateAttr):\n\u001b[1;32m    211\u001b[0m     \u001b[38;5;28;01mif\u001b[39;00m \u001b[38;5;129;01mnot\u001b[39;00m is_valid_private_name(var_name):\n\u001b[1;32m    212\u001b[0m         \u001b[38;5;28;01mraise\u001b[39;00m \u001b[38;5;167;01mNameError\u001b[39;00m(\n\u001b[1;32m    213\u001b[0m             \u001b[38;5;124mf\u001b[39m\u001b[38;5;124m'\u001b[39m\u001b[38;5;124mPrivate attributes \u001b[39m\u001b[38;5;124m\"\u001b[39m\u001b[38;5;132;01m{\u001b[39;00mvar_name\u001b[38;5;132;01m}\u001b[39;00m\u001b[38;5;124m\"\u001b[39m\u001b[38;5;124m must not be a valid field name; \u001b[39m\u001b[38;5;124m'\u001b[39m\n\u001b[0;32m--> 214\u001b[0m             \u001b[38;5;124mf\u001b[39m\u001b[38;5;124m'\u001b[39m\u001b[38;5;124mUse sunder or dunder names, e. g. \u001b[39m\u001b[38;5;124m\"\u001b[39m\u001b[38;5;124m_\u001b[39m\u001b[38;5;132;01m{\u001b[39;00mvar_name\u001b[38;5;132;01m}\u001b[39;00m\u001b[38;5;124m\"\u001b[39m\u001b[38;5;124m or \u001b[39m\u001b[38;5;124m\"\u001b[39m\u001b[38;5;124m__\u001b[39m\u001b[38;5;132;01m{\u001b[39;00mvar_name\u001b[38;5;132;01m}\u001b[39;00m\u001b[38;5;124m__\u001b[39m\u001b[38;5;124m\"\u001b[39m\u001b[38;5;124m'\u001b[39m\n\u001b[1;32m    215\u001b[0m         )\n\u001b[1;32m    216\u001b[0m     private_attributes[var_name] \u001b[38;5;241m=\u001b[39m value\n\u001b[1;32m    217\u001b[0m \u001b[38;5;28;01melif\u001b[39;00m config\u001b[38;5;241m.\u001b[39munderscore_attrs_are_private \u001b[38;5;129;01mand\u001b[39;00m is_valid_private_name(var_name) \u001b[38;5;129;01mand\u001b[39;00m can_be_changed:\n",
      "\u001b[0;31mValidationError\u001b[0m: 1 validation error for DoctranConfig\nopenai_deployment_id\n  Field required [type=missing, input_value={'openai_model': 'gpt-3.5...enai_token_limit': 8000}, input_type=dict]\n    For further information visit https://errors.pydantic.dev/2.10/v/missing"
     ]
    }
   ],
   "source": [
    "from dotenv import load_dotenv\n",
    "import os\n",
    "load_dotenv(\"openai.env\")\n",
    "OPENAI_API_KEY = os.environ.get(\"OPEN_API_KEY\")\n",
    "OPENAI_API_BASE = os.environ.get(\"OPENAI_API_BASE\")\n",
    "OPENAI_MODEL = \"gpt-3.5-turbo-16k\"\n",
    "OPENAI_TOKEN_LIMIT = 8000\n",
    "\n",
    "from doctran import Doctran\n",
    "doctrans = Doctran(\n",
    "    openai_api_key=OPENAI_API_KEY,\n",
    "    openai_model=OPENAI_MODEL,\n",
    "    openai_token_limit=OPENAI_TOKEN_LIMIT,\n",
    ")\n",
    "documents = doctrans.parse(content=content)"
   ]
  },
  {
   "cell_type": "code",
   "execution_count": 17,
   "metadata": {},
   "outputs": [
    {
     "ename": "NameError",
     "evalue": "name 'documents' is not defined",
     "output_type": "error",
     "traceback": [
      "\u001b[0;31m---------------------------------------------------------------------------\u001b[0m",
      "\u001b[0;31mNameError\u001b[0m                                 Traceback (most recent call last)",
      "Cell \u001b[0;32mIn[17], line 2\u001b[0m\n\u001b[1;32m      1\u001b[0m \u001b[38;5;66;03m#总结文档\u001b[39;00m\n\u001b[0;32m----> 2\u001b[0m summary \u001b[38;5;241m=\u001b[39m \u001b[43mdocuments\u001b[49m\u001b[38;5;241m.\u001b[39msummarize(token_limit\u001b[38;5;241m=\u001b[39m \u001b[38;5;241m100\u001b[39m)\u001b[38;5;241m.\u001b[39mexecute()\n",
      "\u001b[0;31mNameError\u001b[0m: name 'documents' is not defined"
     ]
    }
   ],
   "source": [
    "#总结文档\n",
    "summary = documents.summarize(token_limit= 100).execute()"
   ]
  },
  {
   "cell_type": "code",
   "execution_count": 19,
   "metadata": {},
   "outputs": [
    {
     "ename": "NameError",
     "evalue": "name 'documents' is not defined",
     "output_type": "error",
     "traceback": [
      "\u001b[0;31m---------------------------------------------------------------------------\u001b[0m",
      "\u001b[0;31mNameError\u001b[0m                                 Traceback (most recent call last)",
      "Cell \u001b[0;32mIn[19], line 2\u001b[0m\n\u001b[1;32m      1\u001b[0m \u001b[38;5;66;03m# 翻译文档\u001b[39;00m\n\u001b[0;32m----> 2\u001b[0m translation \u001b[38;5;241m=\u001b[39m \u001b[43mdocuments\u001b[49m\u001b[38;5;241m.\u001b[39mtranslate(language\u001b[38;5;241m=\u001b[39m\u001b[38;5;124m'\u001b[39m\u001b[38;5;124mchainese\u001b[39m\u001b[38;5;124m'\u001b[39m)\u001b[38;5;241m.\u001b[39mexecute()\n\u001b[1;32m      3\u001b[0m \u001b[38;5;28mprint\u001b[39m(translation\u001b[38;5;241m.\u001b[39mtransformed_content)\n",
      "\u001b[0;31mNameError\u001b[0m: name 'documents' is not defined"
     ]
    }
   ],
   "source": [
    "# 翻译文档\n",
    "translation = documents.translate(language='chainese').execute()\n",
    "print(translation.transformed_content)"
   ]
  },
  {
   "cell_type": "code",
   "execution_count": null,
   "metadata": {},
   "outputs": [],
   "source": [
    "# 精炼文档\n"
   ]
  }
 ],
 "metadata": {
  "kernelspec": {
   "display_name": "Python 3",
   "language": "python",
   "name": "python3"
  },
  "language_info": {
   "codemirror_mode": {
    "name": "ipython",
    "version": 3
   },
   "file_extension": ".py",
   "mimetype": "text/x-python",
   "name": "python",
   "nbconvert_exporter": "python",
   "pygments_lexer": "ipython3",
   "version": "3.10.5"
  }
 },
 "nbformat": 4,
 "nbformat_minor": 2
}

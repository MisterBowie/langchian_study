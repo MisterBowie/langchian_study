{
 "cells": [
  {
   "cell_type": "code",
   "execution_count": 25,
   "metadata": {},
   "outputs": [
    {
     "name": "stdout",
     "output_type": "stream",
     "text": [
      "Hello! How can I assist you today? 😊\n"
     ]
    }
   ],
   "source": [
    "# Please install OpenAI SDK first: `pip3 install openai`\n",
    "\n",
    "from openai import OpenAI\n",
    "import os\n",
    "client = OpenAI(api_key=os.getenv(\"DS_KEY\"), base_url=\"https://api.deepseek.com\")\n",
    "try:\n",
    "  response = client.chat.completions.create(\n",
    "    model=\"deepseek-chat\",\n",
    "    messages=[\n",
    "        {\"role\": \"system\", \"content\": \"You are a helpful assistant\"},\n",
    "        {\"role\": \"user\", \"content\": \"Hello\"},\n",
    "    ],\n",
    "    stream=True\n",
    "  )\n",
    "  content=\"\"\n",
    "  for chunk in response:\n",
    "      content+=chunk.choices[0].delta.content\n",
    "      if(chunk.choices[0].finish_reason ==\"stop\"):\n",
    "          print(content)\n",
    "except openai.error.OpenAIError as e:\n",
    "    if e.http_status == 400:\n",
    "        print(\"Error: Bad Request (400)\")\n",
    "    elif e.http_status == 200:\n",
    "        print(\"Success: OK (200)\")\n",
    "    else:\n",
    "        print(f\"Error: {e.http_status}\")"
   ]
  }
 ],
 "metadata": {
  "kernelspec": {
   "display_name": "myenv",
   "language": "python",
   "name": "python3"
  },
  "language_info": {
   "codemirror_mode": {
    "name": "ipython",
    "version": 3
   },
   "file_extension": ".py",
   "mimetype": "text/x-python",
   "name": "python",
   "nbconvert_exporter": "python",
   "pygments_lexer": "ipython3",
   "version": "3.12.7"
  }
 },
 "nbformat": 4,
 "nbformat_minor": 2
}
